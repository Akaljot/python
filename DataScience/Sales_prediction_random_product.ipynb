{
 "cells": [
  {
   "cell_type": "code",
   "execution_count": 1,
   "metadata": {},
   "outputs": [
    {
     "name": "stderr",
     "output_type": "stream",
     "text": [
      "Using TensorFlow backend.\n"
     ]
    }
   ],
   "source": [
    "import pandas as pd\n",
    "import numpy as np\n",
    "import seaborn as sns\n",
    "import matplotlib.pyplot as plt\n",
    "import datetime as dt\n",
    "import time\n",
    "from keras.models import Sequential\n",
    "from keras.layers import LSTM, Dense, Dropout\n",
    "from keras import optimizers\n",
    "from sklearn.model_selection import train_test_split\n",
    "from sklearn.preprocessing import MinMaxScaler\n",
    "import math\n",
    "\n"
   ]
  },
  {
   "cell_type": "code",
   "execution_count": 2,
   "metadata": {},
   "outputs": [],
   "source": [
    "#load data\n",
    "\n",
    "train = pd.read_csv(\"sales_train_v2.csv\")\n",
    "test = pd.read_csv(\"test.csv\")\n"
   ]
  },
  {
   "cell_type": "code",
   "execution_count": 3,
   "metadata": {},
   "outputs": [
    {
     "name": "stdout",
     "output_type": "stream",
     "text": [
      "(2935849, 6)\n"
     ]
    },
    {
     "data": {
      "text/plain": [
       "date              6\n",
       "date_block_num    6\n",
       "shop_id           6\n",
       "item_id           6\n",
       "item_price        6\n",
       "item_cnt_day      6\n",
       "dtype: int64"
      ]
     },
     "execution_count": 3,
     "metadata": {},
     "output_type": "execute_result"
    }
   ],
   "source": [
    "#data preprocessing\n",
    "print(train.shape)\n",
    "#missing value\n",
    "train.isnull().sum()\n",
    "\n",
    "#duplicate value\n",
    "train[train.duplicated(keep='first')].count()"
   ]
  },
  {
   "cell_type": "code",
   "execution_count": 4,
   "metadata": {},
   "outputs": [
    {
     "data": {
      "image/png": "[encoded data removed]",
      "text/plain": [
       "<Figure size 720x288 with 1 Axes>"
      ]
     },
     "metadata": {
      "needs_background": "light"
     },
     "output_type": "display_data"
    }
   ],
   "source": [
    "#Outliers\n",
    "plt.figure(figsize=(10,4))\n",
    "plt.xlim(-200, 3000)\n",
    "sns.boxplot(x = train.item_cnt_day)\n",
    "\n",
    "train = train.loc[(train.item_cnt_day < 2000)]\n",
    "plt.show()"
   ]
  },
  {
   "cell_type": "code",
   "execution_count": 5,
   "metadata": {},
   "outputs": [],
   "source": [
    "\n",
    "#transform the dataset in order to put in the model\n",
    "train.date = train.date.apply(lambda x:dt.datetime.strptime(x, '%d.%m.%Y'))\n",
    "train.date = train.date.apply(lambda x:dt.datetime.strftime(x,'%Y-%m'))\n",
    "data = train.groupby(['date','item_id','shop_id']).sum().reset_index()\n",
    "\n",
    "data = data[['date','item_id','shop_id','item_cnt_day']]\n",
    "table = pd.pivot_table(data, values='item_cnt_day', index=['item_id', 'shop_id'],\n",
    "                        columns=['date'], aggfunc=np.sum).reset_index()\n",
    "table = table.fillna(0)"
   ]
  },
  {
   "cell_type": "code",
   "execution_count": 6,
   "metadata": {},
   "outputs": [],
   "source": [
    "#get rid of those not in test data\n",
    "data_inc = test.merge(table, on = ['item_id', 'shop_id'], how = 'left')\n",
    "data_inc = data_inc.fillna(0)\n",
    "data_inc = data_inc.iloc[:,3:]"
   ]
  },
  {
   "cell_type": "code",
   "execution_count": 7,
   "metadata": {},
   "outputs": [],
   "source": [
    "# normalize the dataset\n",
    "scaler = MinMaxScaler(feature_range=(0, 1))"
   ]
  },
  {
   "cell_type": "code",
   "execution_count": 8,
   "metadata": {},
   "outputs": [],
   "source": [
    "look_back = 5 #change lookback here to test\n",
    "def create_dataset(data, look_back):\n",
    "    dataX, dataY = [], []\n",
    "    for i in range(len(data)-look_back):\n",
    "        dataX.append(data[i:(i+look_back)])\n",
    "        dataY.append(data[i + look_back])\n",
    "    return np.array(dataX), np.array(dataY)"
   ]
  },
  {
   "cell_type": "code",
   "execution_count": 9,
   "metadata": {},
   "outputs": [],
   "source": [
    "# data_inc.shape[0]\n",
    "\n",
    "# normalize the dataset\n",
    "norm = scaler.fit_transform(data_inc.values[374].reshape(-1,1)) #choose a random product\n",
    "dataX, dataY = create_dataset(norm, look_back)\n",
    "\n",
    "split = data_inc.shape[1] - look_back -1\n",
    "X_train = dataX[:split]\n",
    "X_test = dataX[split:]\n",
    "Y_train = dataY[:split]\n",
    "Y_test = dataY[split:]"
   ]
  },
  {
   "cell_type": "code",
   "execution_count": 10,
   "metadata": {},
   "outputs": [],
   "source": [
    "#reshape to [samples, time steps, features]\n",
    "X_train = np.reshape(X_train, (X_train.shape[0], 1, X_train.shape[1]))\n",
    "X_test = np.reshape(X_test, (X_test.shape[0], 1, X_test.shape[1]))"
   ]
  },
  {
   "cell_type": "code",
   "execution_count": 11,
   "metadata": {},
   "outputs": [
    {
     "name": "stderr",
     "output_type": "stream",
     "text": [
      "WARNING: Logging before flag parsing goes to stderr.\n",
      "W0823 18:17:45.305760  5192 deprecation_wrapper.py:119] From C:\\ProgramData\\Anaconda3\\lib\\site-packages\\keras\\backend\\tensorflow_backend.py:74: The name tf.get_default_graph is deprecated. Please use tf.compat.v1.get_default_graph instead.\n",
      "\n",
      "W0823 18:17:45.420453  5192 deprecation_wrapper.py:119] From C:\\ProgramData\\Anaconda3\\lib\\site-packages\\keras\\backend\\tensorflow_backend.py:517: The name tf.placeholder is deprecated. Please use tf.compat.v1.placeholder instead.\n",
      "\n",
      "W0823 18:17:45.470317  5192 deprecation_wrapper.py:119] From C:\\ProgramData\\Anaconda3\\lib\\site-packages\\keras\\backend\\tensorflow_backend.py:4138: The name tf.random_uniform is deprecated. Please use tf.random.uniform instead.\n",
      "\n",
      "W0823 18:17:45.795484  5192 deprecation_wrapper.py:119] From C:\\ProgramData\\Anaconda3\\lib\\site-packages\\keras\\backend\\tensorflow_backend.py:133: The name tf.placeholder_with_default is deprecated. Please use tf.compat.v1.placeholder_with_default instead.\n",
      "\n",
      "W0823 18:17:45.804459  5192 deprecation.py:506] From C:\\ProgramData\\Anaconda3\\lib\\site-packages\\keras\\backend\\tensorflow_backend.py:3445: calling dropout (from tensorflow.python.ops.nn_ops) with keep_prob is deprecated and will be removed in a future version.\n",
      "Instructions for updating:\n",
      "Please use `rate` instead of `keep_prob`. Rate should be set to `rate = 1 - keep_prob`.\n",
      "W0823 18:17:45.868289  5192 deprecation_wrapper.py:119] From C:\\ProgramData\\Anaconda3\\lib\\site-packages\\keras\\optimizers.py:790: The name tf.train.Optimizer is deprecated. Please use tf.compat.v1.train.Optimizer instead.\n",
      "\n"
     ]
    }
   ],
   "source": [
    "def model_1(): #add lookback\n",
    "    model = Sequential()\n",
    "    model.add(LSTM(128, input_shape=(1,look_back)))\n",
    "    model.add(Dropout(0.2))\n",
    "\n",
    "    model.add(Dense(1))\n",
    "    adam = optimizers.Adam()\n",
    "    model.compile(loss='mse', optimizer=adam, metrics=['mean_squared_error'])\n",
    "\n",
    "    # model.summary()\n",
    "\n",
    "    return model\n",
    "\n",
    "model1 = model_1()"
   ]
  },
  {
   "cell_type": "code",
   "execution_count": 12,
   "metadata": {},
   "outputs": [
    {
     "name": "stderr",
     "output_type": "stream",
     "text": [
      "W0823 18:17:58.090217  5192 deprecation.py:323] From C:\\ProgramData\\Anaconda3\\lib\\site-packages\\tensorflow\\python\\ops\\math_grad.py:1250: add_dispatch_support.<locals>.wrapper (from tensorflow.python.ops.array_ops) is deprecated and will be removed in a future version.\n",
      "Instructions for updating:\n",
      "Use tf.where in 2.0, which has the same broadcast rule as np.where\n",
      "W0823 18:17:58.651712  5192 deprecation_wrapper.py:119] From C:\\ProgramData\\Anaconda3\\lib\\site-packages\\keras\\backend\\tensorflow_backend.py:986: The name tf.assign_add is deprecated. Please use tf.compat.v1.assign_add instead.\n",
      "\n"
     ]
    },
    {
     "name": "stdout",
     "output_type": "stream",
     "text": [
      "Epoch 1/20\n",
      "28/28 [==============================] - 2s 74ms/step - loss: 0.0881 - mean_squared_error: 0.0881 \n",
      "Epoch 2/20\n",
      "28/28 [==============================] - 0s 7ms/step - loss: 0.0719 - mean_squared_error: 0.0719\n",
      "Epoch 3/20\n",
      "28/28 [==============================] - 0s 7ms/step - loss: 0.0640 - mean_squared_error: 0.0640\n",
      "Epoch 4/20\n",
      "28/28 [==============================] - 0s 6ms/step - loss: 0.0594 - mean_squared_error: 0.0594\n",
      "Epoch 5/20\n",
      "28/28 [==============================] - 0s 7ms/step - loss: 0.0543 - mean_squared_error: 0.0543\n",
      "Epoch 6/20\n",
      "28/28 [==============================] - 0s 7ms/step - loss: 0.0518 - mean_squared_error: 0.0518\n",
      "Epoch 7/20\n",
      "28/28 [==============================] - 0s 6ms/step - loss: 0.0490 - mean_squared_error: 0.0490\n",
      "Epoch 8/20\n",
      "28/28 [==============================] - 0s 11ms/step - loss: 0.0458 - mean_squared_error: 0.0458\n",
      "Epoch 9/20\n",
      "28/28 [==============================] - 0s 11ms/step - loss: 0.0422 - mean_squared_error: 0.0422\n",
      "Epoch 10/20\n",
      "28/28 [==============================] - 0s 8ms/step - loss: 0.0416 - mean_squared_error: 0.0416\n",
      "Epoch 11/20\n",
      "28/28 [==============================] - 0s 8ms/step - loss: 0.0395 - mean_squared_error: 0.0395\n",
      "Epoch 12/20\n",
      "28/28 [==============================] - 0s 9ms/step - loss: 0.0390 - mean_squared_error: 0.0390\n",
      "Epoch 13/20\n",
      "28/28 [==============================] - 0s 11ms/step - loss: 0.0358 - mean_squared_error: 0.0358\n",
      "Epoch 14/20\n",
      "28/28 [==============================] - 0s 11ms/step - loss: 0.0382 - mean_squared_error: 0.0382\n",
      "Epoch 15/20\n",
      "28/28 [==============================] - 0s 10ms/step - loss: 0.0354 - mean_squared_error: 0.0354\n",
      "Epoch 16/20\n",
      "28/28 [==============================] - 0s 9ms/step - loss: 0.0337 - mean_squared_error: 0.0337\n",
      "Epoch 17/20\n",
      "28/28 [==============================] - 0s 8ms/step - loss: 0.0334 - mean_squared_error: 0.0334\n",
      "Epoch 18/20\n",
      "28/28 [==============================] - 0s 6ms/step - loss: 0.0310 - mean_squared_error: 0.0310\n",
      "Epoch 19/20\n",
      "28/28 [==============================] - 0s 7ms/step - loss: 0.0315 - mean_squared_error: 0.0315\n",
      "Epoch 20/20\n",
      "28/28 [==============================] - 0s 6ms/step - loss: 0.0305 - mean_squared_error: 0.0305\n",
      "--------------------------\n",
      "Total training time (seconds) 7.463798522949219\n"
     ]
    }
   ],
   "source": [
    "#record training time\n",
    "start=time.time()\n",
    "training1=model1.fit(X_train, Y_train, batch_size = 1, epochs = 20, shuffle=False)\n",
    "end=time.time()\n",
    "print(\"--------------------------\")\n",
    "print(\"Total training time (seconds)\", end-start)\n"
   ]
  },
  {
   "cell_type": "code",
   "execution_count": 13,
   "metadata": {},
   "outputs": [],
   "source": [
    "# make predictions\n",
    "trainPredict = model1.predict(X_train)\n",
    "testPredict = model1.predict(X_test)"
   ]
  },
  {
   "cell_type": "code",
   "execution_count": 14,
   "metadata": {},
   "outputs": [
    {
     "name": "stdout",
     "output_type": "stream",
     "text": [
      "1/1 [==============================] - 0s 332ms/step\n",
      "--------------------------\n",
      "RMSE 0.6262652277946472\n"
     ]
    }
   ],
   "source": [
    "\n",
    "#test error\n",
    "test_rmse = model1.evaluate(X_test, Y_test)\n",
    "print(\"--------------------------\")\n",
    "print('RMSE' , test_rmse[0])"
   ]
  },
  {
   "cell_type": "code",
   "execution_count": 15,
   "metadata": {},
   "outputs": [],
   "source": [
    "# invert predictions\n",
    "trainPredict = scaler.inverse_transform(trainPredict)\n",
    "trainY = scaler.inverse_transform(Y_train)\n",
    "testPredict = scaler.inverse_transform(testPredict)\n",
    "testY = scaler.inverse_transform(Y_test)"
   ]
  },
  {
   "cell_type": "code",
   "execution_count": 16,
   "metadata": {},
   "outputs": [
    {
     "data": {
      "image/png": "[encoded data removed]",
      "text/plain": [
       "<Figure size 432x288 with 1 Axes>"
      ]
     },
     "metadata": {
      "needs_background": "light"
     },
     "output_type": "display_data"
    }
   ],
   "source": [
    "# print training loss\n",
    "plt.plot(training1.history['loss'], label= 'loss(mse)')\n",
    "plt.plot(np.sqrt(training1.history['mean_squared_error']), label= 'rmse')\n",
    "plt.title('Training loss')\n",
    "plt.legend(loc=1)\n",
    "plt.show()\n"
   ]
  },
  {
   "cell_type": "code",
   "execution_count": 17,
   "metadata": {},
   "outputs": [
    {
     "data": {
      "image/png": "[encoded data removed]",
      "text/plain": [
       "<Figure size 432x288 with 1 Axes>"
      ]
     },
     "metadata": {
      "needs_background": "light"
     },
     "output_type": "display_data"
    }
   ],
   "source": [
    "plt.plot(data_inc.values[374])\n",
    "plt.xlabel('month')\n",
    "plt.ylabel('sales')\n",
    "plt.title('sales record for item 15238 in shop 5')\n",
    "\n",
    "plt.show()"
   ]
  },
  {
   "cell_type": "code",
   "execution_count": null,
   "metadata": {},
   "outputs": [],
   "source": []
  }
 ],
 "metadata": {
  "kernelspec": {
   "display_name": "Python 3",
   "language": "python",
   "name": "python3"
  },
  "language_info": {
   "codemirror_mode": {
    "name": "ipython",
    "version": 3
   },
   "file_extension": ".py",
   "mimetype": "text/x-python",
   "name": "python",
   "nbconvert_exporter": "python",
   "pygments_lexer": "ipython3",
   "version": "3.7.3"
  }
 },
 "nbformat": 4,
 "nbformat_minor": 2
}
